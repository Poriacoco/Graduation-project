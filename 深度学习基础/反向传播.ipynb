{
 "cells": [
  {
   "cell_type": "markdown",
   "metadata": {},
   "source": [
    "# Pytorch 实现反向传播"
   ]
  },
  {
   "cell_type": "markdown",
   "metadata": {},
   "source": [
    "- 执行一次正向传播后会保存所有中间变量，反向传播中链式法则就是通过这些中间变量相乘，所得即是损失函数对权重参数的偏导数。"
   ]
  },
  {
   "cell_type": "code",
   "execution_count": 2,
   "metadata": {},
   "outputs": [
    {
     "data": {
      "text/plain": [
       "(tensor(-2.5379),)"
      ]
     },
     "execution_count": 2,
     "metadata": {},
     "output_type": "execute_result"
    }
   ],
   "source": [
    "import torch\n",
    "x= torch.tensor(1,requires_grad=True, dtype=torch.float32)\n",
    "z = x**2\n",
    "y= torch.tensor(2,requires_grad=True, dtype=torch.float32)\n",
    "sigma = torch.sigmoid(z)\n",
    "loss =-(y*torch.log(sigma) + (1-y) * torch.log(1-sigma))\n",
    "torch.autograd.grad(loss,x)\n"
   ]
  },
  {
   "cell_type": "markdown",
   "metadata": {},
   "source": [
    "* 定义一个神经网络架构，三分类，500样本20特征，1-13,2-8,out-3(共三层) 激活函数relu和sigmoid"
   ]
  },
  {
   "cell_type": "code",
   "execution_count": 11,
   "metadata": {},
   "outputs": [],
   "source": [
    "import torch\n",
    "import torch.nn as nn\n",
    "from torch.nn import functional as F"
   ]
  },
  {
   "cell_type": "code",
   "execution_count": 4,
   "metadata": {},
   "outputs": [],
   "source": [
    "# 确定数据"
   ]
  },
  {
   "cell_type": "code",
   "execution_count": 9,
   "metadata": {},
   "outputs": [],
   "source": [
    "torch.manual_seed(420)\n",
    "X = torch.rand((500,20),dtype=torch.float32)\n",
    "y=torch.randint(low=0,high=3,size=(500,),dtype=torch.float32)\n",
    "\n",
    "input_=X.shape[1]\n",
    "output_=len(y.unique())"
   ]
  },
  {
   "cell_type": "code",
   "execution_count": 8,
   "metadata": {},
   "outputs": [
    {
     "data": {
      "text/plain": [
       "tensor([0., 1., 2.])"
      ]
     },
     "execution_count": 8,
     "metadata": {},
     "output_type": "execute_result"
    }
   ],
   "source": [
    "y.unique()"
   ]
  },
  {
   "cell_type": "code",
   "execution_count": 6,
   "metadata": {},
   "outputs": [
    {
     "data": {
      "text/plain": [
       "tensor([[0.8054, 0.1990, 0.9759,  ..., 0.0117, 0.2572, 0.2272],\n",
       "        [0.6076, 0.9066, 0.5540,  ..., 0.8121, 0.0603, 0.7086],\n",
       "        [0.0708, 0.5807, 0.8304,  ..., 0.8998, 0.0322, 0.4390],\n",
       "        ...,\n",
       "        [0.7986, 0.6708, 0.7298,  ..., 0.1268, 0.1310, 0.8556],\n",
       "        [0.6634, 0.8943, 0.9527,  ..., 0.2029, 0.3998, 0.2302],\n",
       "        [0.7081, 0.1069, 0.1263,  ..., 0.0153, 0.4722, 0.0718]])"
      ]
     },
     "execution_count": 6,
     "metadata": {},
     "output_type": "execute_result"
    }
   ],
   "source": [
    "X\n"
   ]
  },
  {
   "cell_type": "code",
   "execution_count": 12,
   "metadata": {},
   "outputs": [],
   "source": [
    "class Model(nn.Module):\n",
    "    def __init__(self,in_features=40,out_features=2):\n",
    "        super().__init__()\n",
    "        self.linear1=nn.Linear(in_features,13,bias=False)\n",
    "        self.linear2=nn.Linear(13,8,False)\n",
    "        self.output=nn.Linear(8,out_features,True)\n",
    "\n",
    "    def forward(self,X):\n",
    "        sigma1=torch.relu(self.linear1(X))\n",
    "        sigma2=torch.sigmoid(self.linear2(sigma1))\n",
    "        z_hat=self.output(sigma2)\n",
    "        return z_hat"
   ]
  },
  {
   "cell_type": "code",
   "execution_count": 31,
   "metadata": {},
   "outputs": [],
   "source": [
    "torch.manual_seed(420)\n",
    "net = Model(input_,output_)"
   ]
  },
  {
   "cell_type": "code",
   "execution_count": 32,
   "metadata": {},
   "outputs": [],
   "source": [
    "z_hat=net.forward(X)"
   ]
  },
  {
   "cell_type": "code",
   "execution_count": 33,
   "metadata": {},
   "outputs": [],
   "source": [
    "#定义损失函数\n",
    "criterion=nn.CrossEntropyLoss()\n",
    "loss= criterion(z_hat,y.long())"
   ]
  },
  {
   "cell_type": "code",
   "execution_count": 35,
   "metadata": {},
   "outputs": [],
   "source": [
    "loss.backward(retain_graph=True)"
   ]
  },
  {
   "cell_type": "code",
   "execution_count": 36,
   "metadata": {},
   "outputs": [
    {
     "data": {
      "text/plain": [
       "torch.Size([13, 20])"
      ]
     },
     "execution_count": 36,
     "metadata": {},
     "output_type": "execute_result"
    }
   ],
   "source": [
    "net.linear1.weight.grad.shape"
   ]
  },
  {
   "cell_type": "code",
   "execution_count": null,
   "metadata": {},
   "outputs": [],
   "source": []
  }
 ],
 "metadata": {
  "kernelspec": {
   "display_name": "pytorch",
   "language": "python",
   "name": "python3"
  },
  "language_info": {
   "codemirror_mode": {
    "name": "ipython",
    "version": 3
   },
   "file_extension": ".py",
   "mimetype": "text/x-python",
   "name": "python",
   "nbconvert_exporter": "python",
   "pygments_lexer": "ipython3",
   "version": "3.8.20"
  }
 },
 "nbformat": 4,
 "nbformat_minor": 2
}
