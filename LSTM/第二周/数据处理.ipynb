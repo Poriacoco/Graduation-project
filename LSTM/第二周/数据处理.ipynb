{
 "cells": [
  {
   "cell_type": "markdown",
   "metadata": {},
   "source": [
    "## pack_padded_sequence\n"
   ]
  },
  {
   "cell_type": "code",
   "execution_count": 3,
   "metadata": {},
   "outputs": [],
   "source": [
    "import torch\n",
    "import torch.nn as nn\n",
    "from torch.nn import utils as nn_utils\n",
    "\n",
    "batch_size = 2\n",
    "max_length = 3\n",
    "hidden_size = 2\n",
    "n_layers = 1\n"
   ]
  },
  {
   "cell_type": "code",
   "execution_count": 5,
   "metadata": {},
   "outputs": [
    {
     "name": "stdout",
     "output_type": "stream",
     "text": [
      "seq_lengths:\n",
      " [1, 3]\n",
      "tensor_in:\n",
      " tensor([[[1.],\n",
      "         [0.],\n",
      "         [0.]],\n",
      "\n",
      "        [[1.],\n",
      "         [2.],\n",
      "         [3.]]])\n"
     ]
    }
   ],
   "source": [
    "tensor_in = torch.FloatTensor([[1, 0, 0], [1, 2, 3]]).resize_(2, 3, 1)\n",
    "seq_lengths = [1, 3]  # list of integers holding information about the batch size at each sequence step\n",
    "print(\"seq_lengths:\\n\", seq_lengths)\n",
    "print(\"tensor_in:\\n\", tensor_in)\n"
   ]
  },
  {
   "cell_type": "code",
   "execution_count": null,
   "metadata": {},
   "outputs": [
    {
     "data": {
      "text/plain": [
       "tensor([1, 0])"
      ]
     },
     "execution_count": 11,
     "metadata": {},
     "output_type": "execute_result"
    }
   ],
   "source": [
    "seq_lens = torch.IntTensor([1, 3])\n",
    "_, idx_sort = torch.sort(seq_lens, dim=0, descending=True)\n",
    "_, idx_unsort = torch.sort(idx_sort, dim=0)\n",
    "# idx_sort\n",
    "# idx_unsort"
   ]
  },
  {
   "cell_type": "code",
   "execution_count": 12,
   "metadata": {},
   "outputs": [
    {
     "name": "stdout",
     "output_type": "stream",
     "text": [
      "order_seq_lengths:\n",
      " tensor([3, 1], dtype=torch.int32)\n",
      "order_tensor_in:\n",
      " tensor([[[1.],\n",
      "         [2.],\n",
      "         [3.]],\n",
      "\n",
      "        [[1.],\n",
      "         [0.],\n",
      "         [0.]]])\n"
     ]
    }
   ],
   "source": [
    "order_seq_lengths = torch.index_select(seq_lens, dim=0, index=idx_sort)\n",
    "order_tensor_in = torch.index_select(tensor_in, dim=0, index=idx_sort)\n",
    "print(\"order_seq_lengths:\\n\", order_seq_lengths)\n",
    "print(\"order_tensor_in:\\n\", order_tensor_in)"
   ]
  },
  {
   "cell_type": "code",
   "execution_count": 13,
   "metadata": {},
   "outputs": [
    {
     "name": "stdout",
     "output_type": "stream",
     "text": [
      "x_packed:\n",
      " PackedSequence(data=tensor([[1.],\n",
      "        [1.],\n",
      "        [2.],\n",
      "        [3.]]), batch_sizes=tensor([2, 1, 1]), sorted_indices=None, unsorted_indices=None)\n",
      "y_packed:\n",
      " PackedSequence(data=tensor([[-0.2084,  0.9807],\n",
      "        [-0.4690,  0.9106],\n",
      "        [-0.4862, -0.1909],\n",
      "        [ 0.6134, -0.6464]], grad_fn=<CatBackward0>), batch_sizes=tensor([2, 1, 1]), sorted_indices=None, unsorted_indices=None)\n"
     ]
    }
   ],
   "source": [
    "x_packed = nn_utils.rnn.pack_padded_sequence(order_tensor_in, order_seq_lengths, batch_first=True)\n",
    "rnn = nn.RNN(1, hidden_size, n_layers, batch_first=True)\n",
    "h0 = torch.randn(n_layers, batch_size, hidden_size)\n",
    "y_packed, h_n = rnn(x_packed, h0)\n",
    "print('x_packed:\\n', x_packed)\n",
    "print('y_packed:\\n', y_packed)"
   ]
  },
  {
   "cell_type": "code",
   "execution_count": null,
   "metadata": {},
   "outputs": [],
   "source": [
    "\n",
    "print(\"4.--------------\")\n",
    "y_sort, length = nn_utils.rnn.pad_packed_sequence(y_packed, batch_first=True)\n",
    "print(\"sort unpacked output:\\n\", y_sort)\n",
    "print(y_sort.shape)\n",
    "\n",
    "print(\"5.--------------\")\n",
    "# unsort output to original order\n",
    "y = torch.index_select(y_sort, dim=0, index=idx_unsort)\n",
    "print(\"org unpacked output:\\n\", y)\n",
    "print(y.shape)\n",
    "\n",
    "print(\"6.--------------\")\n",
    "# unsort output to original order\n",
    "last_h = torch.index_select(h_n[-1], dim=0, index=idx_unsort)\n",
    "print(\"last hidden state:\\n\", last_h)"
   ]
  },
  {
   "cell_type": "code",
   "execution_count": 2,
   "metadata": {},
   "outputs": [
    {
     "name": "stdout",
     "output_type": "stream",
     "text": [
      "111 (tensor([[[-0.0026, -0.8799],\n",
      "         [ 0.1316, -0.6966]],\n",
      "\n",
      "        [[ 0.3797, -0.8921],\n",
      "         [ 0.0000,  0.0000]],\n",
      "\n",
      "        [[ 0.5364, -0.9789],\n",
      "         [ 0.0000,  0.0000]]], grad_fn=<CopySlices>), tensor([3, 1]))\n"
     ]
    }
   ],
   "source": [
    "import torch\n",
    "import torch.nn as nn\n",
    "from torch.autograd import Variable\n",
    "from torch.nn import utils as nn_utils\n",
    "batch_size = 2\n",
    "max_length = 3\n",
    "hidden_size = 2\n",
    "n_layers =1\n",
    " \n",
    "tensor_in = torch.FloatTensor([[1, 2, 3], [1, 0, 0]]).resize_(2,3,1)\n",
    "tensor_in = Variable( tensor_in ) #[batch, seq, feature], [2, 3, 1]\n",
    "seq_lengths = [3,1] # list of integers holding information about the batch size at each sequence step\n",
    " \n",
    "# pack it\n",
    "pack = nn_utils.rnn.pack_padded_sequence(tensor_in, seq_lengths, batch_first=True)\n",
    " \n",
    "# initialize\n",
    "rnn = nn.RNN(1, hidden_size, n_layers, batch_first=True)\n",
    "h0 = Variable(torch.randn(n_layers, batch_size, hidden_size))\n",
    " \n",
    "#forward\n",
    "out, _ = rnn(pack, h0)\n",
    " \n",
    "# unpack\n",
    "unpacked = nn_utils.rnn.pad_packed_sequence(out)\n",
    "print('111',unpacked)"
   ]
  },
  {
   "cell_type": "code",
   "execution_count": null,
   "metadata": {},
   "outputs": [],
   "source": []
  }
 ],
 "metadata": {
  "kernelspec": {
   "display_name": "pytorch",
   "language": "python",
   "name": "python3"
  },
  "language_info": {
   "codemirror_mode": {
    "name": "ipython",
    "version": 3
   },
   "file_extension": ".py",
   "mimetype": "text/x-python",
   "name": "python",
   "nbconvert_exporter": "python",
   "pygments_lexer": "ipython3",
   "version": "3.8.20"
  }
 },
 "nbformat": 4,
 "nbformat_minor": 2
}
